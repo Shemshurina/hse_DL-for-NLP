{
 "cells": [
  {
   "cell_type": "markdown",
   "metadata": {
    "id": "P8tDK5A9OCM7"
   },
   "source": [
    "## Домашняя работа №1 Part1\n",
    "Вам предстоит:\n",
    "\n",
    "Написать персептрон с двумя слоями. Реализовать форвард и бэквард пропогейшен\n",
    "\n"
   ]
  },
  {
   "cell_type": "code",
   "execution_count": 2,
   "metadata": {
    "id": "c5IbKpsMN_F1"
   },
   "outputs": [],
   "source": [
    "import numpy as np\n",
    "from sklearn.metrics import classification_report\n",
    "import torch\n",
    "from torch.utils.data import DataLoader\n",
    "from torchvision.datasets import MNIST\n",
    "from torchvision import transforms\n",
    "import matplotlib.pyplot as plt\n",
    "from tqdm import tqdm\n",
    "from sklearn.metrics import accuracy_score\n",
    "import time"
   ]
  },
  {
   "cell_type": "markdown",
   "metadata": {
    "id": "zQRYevLNN_GA"
   },
   "source": [
    "# Датасет\n",
    "Загрузим Мнист. Почему именно он? Мы будем решать задачу бинарной классификации на паре цифр: 3 и 7. Плюсы в том, что примеров для этих чисел достаточно, чтобы обучить НС, у каждого примера не так много фичей (28Х28 - размерность картинок) и, в целом, эти классы хорошо отделяются. Я б с радостью показал вам пример с текстами, но если писать НС с нуля и пытаться обучаться на текстах, не факт, что у нас хоть что то обучится :(  \n",
    "  "
   ]
  },
  {
   "cell_type": "markdown",
   "metadata": {
    "id": "EtMN4ZlSN_GC"
   },
   "source": [
    "Торч - объект, который позволяет нормализовать картинки, можно думать о нем как о предобработке (регулярках) для текстов. В целом не стоит здесь долго думать"
   ]
  },
  {
   "cell_type": "code",
   "execution_count": 3,
   "metadata": {
    "id": "BMugicmkN_GE"
   },
   "outputs": [],
   "source": [
    "transform = transforms.Compose([\n",
    "    transforms.ToTensor(),\n",
    "    transforms.Normalize((0.1307,), (0.3081,))\n",
    "])"
   ]
  },
  {
   "cell_type": "markdown",
   "metadata": {
    "id": "actIVoMKN_GJ"
   },
   "source": [
    "Загружаем датасет. Возращается особенный торчовый класс, чуть ниже мы зададим его сами и научимся им полльзоваться, пока оставляем эз из.\n"
   ]
  },
  {
   "cell_type": "code",
   "execution_count": 4,
   "metadata": {
    "colab": {
     "base_uri": "https://localhost:8080/",
     "height": 255
    },
    "id": "fQpJqIWrN_GK",
    "outputId": "2ed59df6-e5df-4487-dc74-74950632d80c"
   },
   "outputs": [],
   "source": [
    "train_dataset = MNIST('.', train=True, download=True, transform=transform)\n",
    "test_dataset = MNIST('.', train=False, transform=transform)"
   ]
  },
  {
   "cell_type": "markdown",
   "metadata": {
    "id": "aUSUIJbUN_GQ"
   },
   "source": [
    "Выбираем два класса. Если вы достаточно хорошо знакомы с пандас, то можно понять, что никакой магии здесь нет."
   ]
  },
  {
   "cell_type": "code",
   "execution_count": 5,
   "metadata": {
    "id": "vx73oHg9N_GS"
   },
   "outputs": [],
   "source": [
    "#фильтруем фичи (дата) по значению классификационных лэйблов (таргет), берем или цифру 3 или цифру 7\n",
    "train_dataset.data = train_dataset.data[(train_dataset.targets == 3) | (train_dataset.targets == 7)]\n",
    "train_dataset.targets = train_dataset.targets[(train_dataset.targets == 3) | (train_dataset.targets == 7)]\n",
    "#тоже самое для тестового набора\n",
    "test_dataset.data = test_dataset.data[(test_dataset.targets == 3) | (test_dataset.targets == 7)]\n",
    "test_dataset.targets = test_dataset.targets[(test_dataset.targets == 3) | (test_dataset.targets == 7)]\n",
    "#необходимы препроцессинг лейблов, видимо не все значения имею тип integer, а нам нужен именно этот тип функция лонг позволяет нам \n",
    "#        это сделать (self.long() is equivalent to self.to(torch.int64). See to())\n",
    "train_dataset.targets = (train_dataset.targets == 7).long()\n",
    "test_dataset.targets = (test_dataset.targets == 7).long()"
   ]
  },
  {
   "cell_type": "markdown",
   "metadata": {
    "id": "RHelnPG0N_GX"
   },
   "source": [
    "Мы неоднократно говорили, что НС обычно тренируются бачами, в торче есть удобный класс, который позволяет обернуть наши датасеты в итерируемый объект. Если не знаете что такое итерируемый объект, погуглите :) можно думать об этом как о списке с составными элементами (элемент - батч - набор примеров) "
   ]
  },
  {
   "cell_type": "code",
   "execution_count": 6,
   "metadata": {
    "id": "ENLomAueN_GZ"
   },
   "outputs": [],
   "source": [
    "train_loader = DataLoader(train_dataset, batch_size=128, shuffle=True)\n",
    "test_loader = DataLoader(test_dataset, batch_size=128, shuffle=False)"
   ]
  },
  {
   "cell_type": "code",
   "execution_count": 7,
   "metadata": {
    "colab": {
     "base_uri": "https://localhost:8080/",
     "height": 952
    },
    "id": "rdvq5scBXtWY",
    "outputId": "b3ea3409-955b-433a-ac9e-084b117dbcc7"
   },
   "outputs": [
    {
     "data": {
      "text/plain": [
       "tensor([[[[-0.4242, -0.4242, -0.4242,  ..., -0.4242, -0.4242, -0.4242],\n",
       "          [-0.4242, -0.4242, -0.4242,  ..., -0.4242, -0.4242, -0.4242],\n",
       "          [-0.4242, -0.4242, -0.4242,  ..., -0.4242, -0.4242, -0.4242],\n",
       "          ...,\n",
       "          [-0.4242, -0.4242, -0.4242,  ..., -0.4242, -0.4242, -0.4242],\n",
       "          [-0.4242, -0.4242, -0.4242,  ..., -0.4242, -0.4242, -0.4242],\n",
       "          [-0.4242, -0.4242, -0.4242,  ..., -0.4242, -0.4242, -0.4242]]],\n",
       "\n",
       "\n",
       "        [[[-0.4242, -0.4242, -0.4242,  ..., -0.4242, -0.4242, -0.4242],\n",
       "          [-0.4242, -0.4242, -0.4242,  ..., -0.4242, -0.4242, -0.4242],\n",
       "          [-0.4242, -0.4242, -0.4242,  ..., -0.4242, -0.4242, -0.4242],\n",
       "          ...,\n",
       "          [-0.4242, -0.4242, -0.4242,  ..., -0.4242, -0.4242, -0.4242],\n",
       "          [-0.4242, -0.4242, -0.4242,  ..., -0.4242, -0.4242, -0.4242],\n",
       "          [-0.4242, -0.4242, -0.4242,  ..., -0.4242, -0.4242, -0.4242]]],\n",
       "\n",
       "\n",
       "        [[[-0.4242, -0.4242, -0.4242,  ..., -0.4242, -0.4242, -0.4242],\n",
       "          [-0.4242, -0.4242, -0.4242,  ..., -0.4242, -0.4242, -0.4242],\n",
       "          [-0.4242, -0.4242, -0.4242,  ..., -0.4242, -0.4242, -0.4242],\n",
       "          ...,\n",
       "          [-0.4242, -0.4242, -0.4242,  ..., -0.4242, -0.4242, -0.4242],\n",
       "          [-0.4242, -0.4242, -0.4242,  ..., -0.4242, -0.4242, -0.4242],\n",
       "          [-0.4242, -0.4242, -0.4242,  ..., -0.4242, -0.4242, -0.4242]]],\n",
       "\n",
       "\n",
       "        ...,\n",
       "\n",
       "\n",
       "        [[[-0.4242, -0.4242, -0.4242,  ..., -0.4242, -0.4242, -0.4242],\n",
       "          [-0.4242, -0.4242, -0.4242,  ..., -0.4242, -0.4242, -0.4242],\n",
       "          [-0.4242, -0.4242, -0.4242,  ..., -0.4242, -0.4242, -0.4242],\n",
       "          ...,\n",
       "          [-0.4242, -0.4242, -0.4242,  ..., -0.4242, -0.4242, -0.4242],\n",
       "          [-0.4242, -0.4242, -0.4242,  ..., -0.4242, -0.4242, -0.4242],\n",
       "          [-0.4242, -0.4242, -0.4242,  ..., -0.4242, -0.4242, -0.4242]]],\n",
       "\n",
       "\n",
       "        [[[-0.4242, -0.4242, -0.4242,  ..., -0.4242, -0.4242, -0.4242],\n",
       "          [-0.4242, -0.4242, -0.4242,  ..., -0.4242, -0.4242, -0.4242],\n",
       "          [-0.4242, -0.4242, -0.4242,  ..., -0.4242, -0.4242, -0.4242],\n",
       "          ...,\n",
       "          [-0.4242, -0.4242, -0.4242,  ..., -0.4242, -0.4242, -0.4242],\n",
       "          [-0.4242, -0.4242, -0.4242,  ..., -0.4242, -0.4242, -0.4242],\n",
       "          [-0.4242, -0.4242, -0.4242,  ..., -0.4242, -0.4242, -0.4242]]],\n",
       "\n",
       "\n",
       "        [[[-0.4242, -0.4242, -0.4242,  ..., -0.4242, -0.4242, -0.4242],\n",
       "          [-0.4242, -0.4242, -0.4242,  ..., -0.4242, -0.4242, -0.4242],\n",
       "          [-0.4242, -0.4242, -0.4242,  ..., -0.4242, -0.4242, -0.4242],\n",
       "          ...,\n",
       "          [-0.4242, -0.4242, -0.4242,  ..., -0.4242, -0.4242, -0.4242],\n",
       "          [-0.4242, -0.4242, -0.4242,  ..., -0.4242, -0.4242, -0.4242],\n",
       "          [-0.4242, -0.4242, -0.4242,  ..., -0.4242, -0.4242, -0.4242]]]])"
      ]
     },
     "execution_count": 7,
     "metadata": {},
     "output_type": "execute_result"
    }
   ],
   "source": [
    "X, y = next(iter(train_loader)) #next(iter(x) - Возвращает следующий элемент итератора.\n",
    "X"
   ]
  },
  {
   "cell_type": "code",
   "execution_count": 8,
   "metadata": {
    "colab": {
     "base_uri": "https://localhost:8080/",
     "height": 119
    },
    "id": "SAaI0uHWYUrb",
    "outputId": "b9a743d2-f2be-4930-dba3-e9ab123e20b5"
   },
   "outputs": [
    {
     "data": {
      "text/plain": [
       "tensor([1, 0, 1, 1, 1, 1, 0, 1, 0, 0, 0, 1, 1, 0, 1, 0, 1, 0, 0, 0, 0, 0, 1, 1,\n",
       "        1, 0, 1, 1, 1, 0, 0, 0, 0, 1, 1, 1, 1, 0, 0, 0, 1, 1, 0, 0, 0, 1, 1, 0,\n",
       "        1, 1, 0, 0, 0, 0, 1, 0, 0, 1, 0, 1, 1, 0, 1, 1, 1, 1, 0, 1, 0, 0, 1, 1,\n",
       "        0, 1, 0, 0, 0, 0, 0, 0, 0, 1, 1, 1, 0, 1, 1, 0, 1, 0, 0, 1, 0, 1, 0, 1,\n",
       "        1, 0, 1, 0, 0, 0, 1, 0, 1, 0, 0, 0, 0, 1, 1, 1, 0, 0, 1, 1, 1, 0, 0, 0,\n",
       "        1, 1, 1, 1, 1, 1, 1, 0])"
      ]
     },
     "execution_count": 8,
     "metadata": {},
     "output_type": "execute_result"
    }
   ],
   "source": [
    "y"
   ]
  },
  {
   "cell_type": "markdown",
   "metadata": {
    "id": "KPw6jv5hYXhV"
   },
   "source": [
    "Никакой магии, просто многомерные матрицы. Можно даже проверить, что то, что мы получили, то есть первый батч имееет правильную размерность.В y - 1 это класс цифры \"7\", 0 - \"3\""
   ]
  },
  {
   "cell_type": "code",
   "execution_count": 9,
   "metadata": {
    "colab": {
     "base_uri": "https://localhost:8080/",
     "height": 34
    },
    "id": "mQH1_6dSYlnW",
    "outputId": "f6f72aba-2367-442f-eb82-10f38c7d039d"
   },
   "outputs": [
    {
     "data": {
      "text/plain": [
       "torch.Size([128, 1, 28, 28])"
      ]
     },
     "execution_count": 9,
     "metadata": {},
     "output_type": "execute_result"
    }
   ],
   "source": [
    "X.shape #128 - примеров, [1, 28, 28] - размерность картинки, 1 - значит что из трех каналов (Р, Г, Б) у нас всего один, а сама картинка 28 на 28"
   ]
  },
  {
   "cell_type": "code",
   "execution_count": 10,
   "metadata": {
    "colab": {
     "base_uri": "https://localhost:8080/",
     "height": 34
    },
    "id": "yGAYt4oqYpW5",
    "outputId": "28184602-483d-45e4-f6b1-3b82cec0d19f"
   },
   "outputs": [
    {
     "data": {
      "text/plain": [
       "torch.Size([128])"
      ]
     },
     "execution_count": 10,
     "metadata": {},
     "output_type": "execute_result"
    }
   ],
   "source": [
    "y.shape"
   ]
  },
  {
   "cell_type": "markdown",
   "metadata": {
    "id": "CNVEJYNXN_Gd"
   },
   "source": [
    "Проверим, правда ли это картинки"
   ]
  },
  {
   "cell_type": "code",
   "execution_count": 11,
   "metadata": {
    "colab": {
     "base_uri": "https://localhost:8080/",
     "height": 420
    },
    "id": "-Kkv2jAKN_Ge",
    "outputId": "10a727e2-6340-4f62-91fa-6f0e441c86ac"
   },
   "outputs": [
    {
     "data": {
      "image/png": "[encoded data removed]",
      "text/plain": [
       "<Figure size 432x504 with 25 Axes>"
      ]
     },
     "metadata": {
      "needs_background": "light"
     },
     "output_type": "display_data"
    }
   ],
   "source": [
    "X, y = next(iter(train_loader))\n",
    "X = X.numpy() # перевод тензора в массив нумпай, просто изменение типа данных \n",
    "y = y.numpy()\n",
    "\n",
    "plt.figure(figsize=(6, 7))\n",
    "for i in range(25):\n",
    "    plt.subplot(5, 5, i+1)\n",
    "    plt.imshow(X[i].reshape(28, 28), cmap=plt.cm.Greys_r)\n",
    "    plt.title(y[i])\n",
    "    plt.axis('off')"
   ]
  },
  {
   "cell_type": "markdown",
   "metadata": {
    "id": "jL6Cd-7tb29_"
   },
   "source": [
    "Нам столько размерностей не нужно, поэтому давайте выпрямим матрицу, тем боле мы знаем что значение каждого пикселя независимо друг друга."
   ]
  },
  {
   "cell_type": "code",
   "execution_count": 12,
   "metadata": {
    "colab": {
     "base_uri": "https://localhost:8080/",
     "height": 34
    },
    "id": "tDiEEUYJN_G6",
    "outputId": "c057b0ba-904b-4a91-e982-db48628aa346"
   },
   "outputs": [
    {
     "data": {
      "text/plain": [
       "torch.Size([128, 784])"
      ]
     },
     "execution_count": 12,
     "metadata": {},
     "output_type": "execute_result"
    }
   ],
   "source": [
    "X, y = next(iter(train_loader))\n",
    "X = X.view(X.shape[0], -1)\n",
    "X.shape"
   ]
  },
  {
   "cell_type": "markdown",
   "metadata": {
    "id": "6_m0y3z9N_HN"
   },
   "source": [
    " Размерность\n",
    "- количество примеров в батче\n",
    "- количество фичей"
   ]
  },
  {
   "cell_type": "code",
   "execution_count": 13,
   "metadata": {
    "colab": {
     "base_uri": "https://localhost:8080/",
     "height": 119
    },
    "id": "0rRs_fibN_HX",
    "outputId": "e029c693-4927-4781-e4a7-8ee3a4b02d1e"
   },
   "outputs": [
    {
     "data": {
      "text/plain": [
       "tensor([0, 0, 0, 0, 1, 0, 0, 0, 0, 0, 0, 1, 1, 1, 0, 1, 0, 0, 1, 1, 0, 0, 1, 1,\n",
       "        1, 0, 1, 1, 1, 0, 1, 0, 1, 1, 0, 1, 0, 0, 1, 1, 1, 1, 0, 0, 0, 0, 0, 1,\n",
       "        1, 0, 1, 1, 1, 1, 1, 0, 1, 1, 0, 0, 1, 1, 0, 1, 0, 0, 1, 1, 1, 1, 1, 0,\n",
       "        1, 1, 1, 0, 1, 1, 0, 0, 1, 1, 0, 0, 0, 1, 1, 0, 1, 0, 1, 1, 0, 0, 1, 0,\n",
       "        0, 1, 1, 1, 1, 1, 1, 0, 0, 1, 0, 1, 0, 1, 1, 0, 1, 1, 1, 0, 1, 0, 0, 1,\n",
       "        0, 0, 1, 0, 1, 0, 0, 1])"
      ]
     },
     "execution_count": 13,
     "metadata": {},
     "output_type": "execute_result"
    }
   ],
   "source": [
    "y"
   ]
  },
  {
   "cell_type": "markdown",
   "metadata": {
    "id": "Z4vTsvPZdPQg"
   },
   "source": [
    "Такой У нам не совсем подходит. Сейчас объясню почему. Размерность Х (128,784) матрично перемножим на скрытый слой (784,1) и получится (128,1). Нужно понимать, что размерность (128,) и (128,1) это немного разные вещи  "
   ]
  },
  {
   "cell_type": "code",
   "execution_count": 14,
   "metadata": {
    "colab": {
     "base_uri": "https://localhost:8080/",
     "height": 34
    },
    "id": "98g7689ON_Hc",
    "outputId": "007d721e-ebd9-4752-d948-97887b4917bd"
   },
   "outputs": [
    {
     "data": {
      "text/plain": [
       "torch.Size([128, 1])"
      ]
     },
     "execution_count": 14,
     "metadata": {},
     "output_type": "execute_result"
    }
   ],
   "source": [
    "w = torch.rand(784, 1) #Рандомные необученые веса\n",
    "pred = X.matmul(w)\n",
    "pred.shape"
   ]
  },
  {
   "cell_type": "code",
   "execution_count": 15,
   "metadata": {
    "colab": {
     "base_uri": "https://localhost:8080/",
     "height": 1000
    },
    "id": "KG9L5xtJd9TQ",
    "outputId": "6e5671bc-eb6a-4e20-f5c9-2d391b067d4a"
   },
   "outputs": [
    {
     "data": {
      "text/plain": [
       "tensor([[ 27.5894],\n",
       "        [ 47.1648],\n",
       "        [ 63.0724],\n",
       "        [126.5691],\n",
       "        [  3.7816],\n",
       "        [-16.8671],\n",
       "        [ -9.9286],\n",
       "        [-54.8889],\n",
       "        [ -1.7722],\n",
       "        [ 82.9338],\n",
       "        [-15.7844],\n",
       "        [-60.3625],\n",
       "        [-65.3567],\n",
       "        [-49.5872],\n",
       "        [ -7.9432],\n",
       "        [ -8.1290],\n",
       "        [ 18.8684],\n",
       "        [-43.6779],\n",
       "        [-60.5979],\n",
       "        [-40.5380],\n",
       "        [-73.2595],\n",
       "        [-31.2877],\n",
       "        [-41.4340],\n",
       "        [ 25.9735],\n",
       "        [  1.4694],\n",
       "        [  4.7919],\n",
       "        [  9.6447],\n",
       "        [ 51.2883],\n",
       "        [-27.7279],\n",
       "        [-16.1256],\n",
       "        [-38.2344],\n",
       "        [  7.8885],\n",
       "        [  3.3431],\n",
       "        [ -0.9953],\n",
       "        [  0.7817],\n",
       "        [-73.0930],\n",
       "        [-10.4538],\n",
       "        [-10.5865],\n",
       "        [-46.9107],\n",
       "        [ -0.9774],\n",
       "        [-64.8861],\n",
       "        [-22.3685],\n",
       "        [ -4.9066],\n",
       "        [ -1.2205],\n",
       "        [-13.0131],\n",
       "        [ 10.1799],\n",
       "        [ 49.2443],\n",
       "        [ 16.8953],\n",
       "        [-37.9785],\n",
       "        [ 75.7426],\n",
       "        [-48.5583],\n",
       "        [ 46.0868],\n",
       "        [ 33.4601],\n",
       "        [ 28.7646],\n",
       "        [-79.2625],\n",
       "        [-43.5115],\n",
       "        [-27.7259],\n",
       "        [-18.3023],\n",
       "        [ 62.7125],\n",
       "        [ 64.4553],\n",
       "        [-76.3767],\n",
       "        [-13.1577],\n",
       "        [  6.9030],\n",
       "        [-65.0083],\n",
       "        [-22.7732],\n",
       "        [ 41.4449],\n",
       "        [-18.7310],\n",
       "        [ 45.7836],\n",
       "        [-35.8094],\n",
       "        [ 67.4980],\n",
       "        [-31.6270],\n",
       "        [-65.0461],\n",
       "        [-33.1179],\n",
       "        [ 21.9173],\n",
       "        [-57.1240],\n",
       "        [-82.5135],\n",
       "        [-30.1533],\n",
       "        [ -7.0453],\n",
       "        [-40.3448],\n",
       "        [-40.7948],\n",
       "        [-30.0447],\n",
       "        [-27.9257],\n",
       "        [-27.7856],\n",
       "        [ 58.7326],\n",
       "        [ 68.2315],\n",
       "        [ 59.8385],\n",
       "        [-52.0897],\n",
       "        [ 16.7790],\n",
       "        [-66.3234],\n",
       "        [ 21.0459],\n",
       "        [-22.8787],\n",
       "        [-84.5524],\n",
       "        [ 18.4312],\n",
       "        [-21.0006],\n",
       "        [ 22.4977],\n",
       "        [-68.1353],\n",
       "        [-34.2236],\n",
       "        [ -4.2061],\n",
       "        [-62.7498],\n",
       "        [-29.9529],\n",
       "        [-24.2046],\n",
       "        [ 17.5856],\n",
       "        [-39.2512],\n",
       "        [ 64.5160],\n",
       "        [  1.3257],\n",
       "        [-48.4968],\n",
       "        [ 19.8894],\n",
       "        [ 55.1108],\n",
       "        [ 16.9724],\n",
       "        [-38.4105],\n",
       "        [ 35.8676],\n",
       "        [ 40.3084],\n",
       "        [-36.2748],\n",
       "        [-51.1197],\n",
       "        [  9.9422],\n",
       "        [ 15.1451],\n",
       "        [ 55.9998],\n",
       "        [ 43.5352],\n",
       "        [ 75.0522],\n",
       "        [-49.0835],\n",
       "        [ 12.4779],\n",
       "        [-11.8865],\n",
       "        [-24.5845],\n",
       "        [ 20.9826],\n",
       "        [-44.1422],\n",
       "        [-35.7837],\n",
       "        [-21.5413],\n",
       "        [111.4046]])"
      ]
     },
     "execution_count": 15,
     "metadata": {},
     "output_type": "execute_result"
    }
   ],
   "source": [
    "pred"
   ]
  },
  {
   "cell_type": "markdown",
   "metadata": {
    "id": "Rb1hswcGeEpc"
   },
   "source": [
    "Теперь у нас есть предсказания и их размерность (128,1). Нужно будет счтить лосс с у, поэтому приведем его к такой же размерности с expand_dims - это функция есть в нумпае, также есть и в торче"
   ]
  },
  {
   "cell_type": "code",
   "execution_count": 16,
   "metadata": {
    "id": "wAIFQMfwN_Hl"
   },
   "outputs": [],
   "source": [
    "y = np.expand_dims(y, 1)"
   ]
  },
  {
   "cell_type": "code",
   "execution_count": 17,
   "metadata": {
    "colab": {
     "base_uri": "https://localhost:8080/",
     "height": 1000
    },
    "id": "SrlrvUq7N_Hw",
    "outputId": "3a38d8c2-f9ce-4565-c289-fd32ac79dec1"
   },
   "outputs": [
    {
     "data": {
      "text/plain": [
       "array([[0],\n",
       "       [0],\n",
       "       [0],\n",
       "       [0],\n",
       "       [1],\n",
       "       [0],\n",
       "       [0],\n",
       "       [0],\n",
       "       [0],\n",
       "       [0],\n",
       "       [0],\n",
       "       [1],\n",
       "       [1],\n",
       "       [1],\n",
       "       [0],\n",
       "       [1],\n",
       "       [0],\n",
       "       [0],\n",
       "       [1],\n",
       "       [1],\n",
       "       [0],\n",
       "       [0],\n",
       "       [1],\n",
       "       [1],\n",
       "       [1],\n",
       "       [0],\n",
       "       [1],\n",
       "       [1],\n",
       "       [1],\n",
       "       [0],\n",
       "       [1],\n",
       "       [0],\n",
       "       [1],\n",
       "       [1],\n",
       "       [0],\n",
       "       [1],\n",
       "       [0],\n",
       "       [0],\n",
       "       [1],\n",
       "       [1],\n",
       "       [1],\n",
       "       [1],\n",
       "       [0],\n",
       "       [0],\n",
       "       [0],\n",
       "       [0],\n",
       "       [0],\n",
       "       [1],\n",
       "       [1],\n",
       "       [0],\n",
       "       [1],\n",
       "       [1],\n",
       "       [1],\n",
       "       [1],\n",
       "       [1],\n",
       "       [0],\n",
       "       [1],\n",
       "       [1],\n",
       "       [0],\n",
       "       [0],\n",
       "       [1],\n",
       "       [1],\n",
       "       [0],\n",
       "       [1],\n",
       "       [0],\n",
       "       [0],\n",
       "       [1],\n",
       "       [1],\n",
       "       [1],\n",
       "       [1],\n",
       "       [1],\n",
       "       [0],\n",
       "       [1],\n",
       "       [1],\n",
       "       [1],\n",
       "       [0],\n",
       "       [1],\n",
       "       [1],\n",
       "       [0],\n",
       "       [0],\n",
       "       [1],\n",
       "       [1],\n",
       "       [0],\n",
       "       [0],\n",
       "       [0],\n",
       "       [1],\n",
       "       [1],\n",
       "       [0],\n",
       "       [1],\n",
       "       [0],\n",
       "       [1],\n",
       "       [1],\n",
       "       [0],\n",
       "       [0],\n",
       "       [1],\n",
       "       [0],\n",
       "       [0],\n",
       "       [1],\n",
       "       [1],\n",
       "       [1],\n",
       "       [1],\n",
       "       [1],\n",
       "       [1],\n",
       "       [0],\n",
       "       [0],\n",
       "       [1],\n",
       "       [0],\n",
       "       [1],\n",
       "       [0],\n",
       "       [1],\n",
       "       [1],\n",
       "       [0],\n",
       "       [1],\n",
       "       [1],\n",
       "       [1],\n",
       "       [0],\n",
       "       [1],\n",
       "       [0],\n",
       "       [0],\n",
       "       [1],\n",
       "       [0],\n",
       "       [0],\n",
       "       [1],\n",
       "       [0],\n",
       "       [1],\n",
       "       [0],\n",
       "       [0],\n",
       "       [1]], dtype=int64)"
      ]
     },
     "execution_count": 17,
     "metadata": {},
     "output_type": "execute_result"
    }
   ],
   "source": [
    "y"
   ]
  },
  {
   "cell_type": "markdown",
   "metadata": {
    "id": "TFAKpwY_N_H_"
   },
   "source": [
    "Итерация по эпохам"
   ]
  },
  {
   "cell_type": "code",
   "execution_count": 31,
   "metadata": {
    "colab": {
     "base_uri": "https://localhost:8080/",
     "height": 68
    },
    "id": "DWmQFlyWN_IB",
    "outputId": "5317f355-03fc-443c-90b2-811c563ac813"
   },
   "outputs": [
    {
     "name": "stdout",
     "output_type": "stream",
     "text": [
      "Эпоха - 1, прошли - 100.00 % датасета\n",
      "Эпоха - 2, прошли - 100.00 % датасета\n",
      "Эпоха - 3, прошли - 100.00 % датасета\n"
     ]
    }
   ],
   "source": [
    "epochs = 3\n",
    "\n",
    "for n_epoch in range(epochs):\n",
    "    \n",
    "    dataset_passed_samples = 0\n",
    "    \n",
    "    for x, y in train_loader:\n",
    "        \n",
    "        # вот здесь мы могли бы как-то манипулировать с данными, например, учить, но пока этого делать не будет\n",
    "        \n",
    "        time.sleep(0.05)\n",
    "        \n",
    "        dataset_passed_samples += x.shape[0]\n",
    "        \n",
    "        dataset_passed_percent = dataset_passed_samples * 100 / train_loader.dataset.data.shape[0]\n",
    "        \n",
    "        print(f'Эпоха - {n_epoch + 1}, прошли - {dataset_passed_percent:.2f} % датасета', end='\\r')\n",
    "        \n",
    "    print('\\r')"
   ]
  },
  {
   "cell_type": "markdown",
   "metadata": {
    "id": "8iBd9MS_f7Eg"
   },
   "source": [
    "# Однослойный персептрон"
   ]
  },
  {
   "cell_type": "code",
   "execution_count": 32,
   "metadata": {
    "colab": {
     "base_uri": "https://localhost:8080/",
     "height": 102
    },
    "id": "x9wKt3z1gIo7",
    "outputId": "1eff2785-550d-4042-b511-05a050f71c96"
   },
   "outputs": [
    {
     "name": "stdout",
     "output_type": "stream",
     "text": [
      "Epoch: 1\n",
      "Epoch: 2\n",
      "Epoch: 3\n",
      "Epoch: 4\n",
      "Epoch: 5\n"
     ]
    }
   ],
   "source": [
    "learning_rate = 0.01 # тот самый лернинг рейт, который определяет какую часть от градиента мы будем брать\n",
    "epochs = 5  #сколько раз мы пройдем по всему тренировачному набору наших данных\n",
    "\n",
    "batch_size = 128  #это число примеров в баче понадобится нам при обучении чтобы усреднять лосс (ошибку обучения)\n",
    "n_feat = 784\n",
    "\n",
    "w1 = np.random.rand(n_feat,1)*0.01 #0.01 - нормируем таким образом наши веса, чтобы избежать деления на ноль при бэкпропе, \n",
    "                                    #эмпирически выбрано, так как сами фичи у нас имеют значения близкие к 0\n",
    "b1 = np.zeros(1) #размерность должна совпадать с количеством параметров, которые у нас останутся после матричного перемножения\n",
    "\n",
    "losses = [] #на каждой итерации (и для всех эпох) будем сохранять сюда наш Лосс, чтобы видеть обучается ли НС\n",
    "\n",
    "for n_epoch in range(epochs):\n",
    "    \n",
    "    print(f'Epoch: {n_epoch + 1}')\n",
    "    \n",
    "    for x, y in train_loader:\n",
    "\n",
    "        x = x.view(x.shape[0], -1).numpy() #приводим к размерности (128,784)\n",
    "        y = np.expand_dims(y.numpy(), 1) #приводим к размерности (128,1)\n",
    "\n",
    "        h1 = x.dot(w1) + b1 #переход в одномерное пространство\n",
    "        p = 1/(1+np.exp(-h1)) #преобразование в \"вероятности\"\n",
    "        \n",
    "        bce = (-np.sum(np.multiply(np.log(p), y) + np.multiply((1 - y), np.log(1 - p)))) / batch_size \n",
    "        #расчет энтропии с усреднением по размеру бача\n",
    "          \n",
    "        losses.append(bce) \n",
    "        #ниже производная bce и sigmoid, если вы распишите две этих производные, перемножите и сократите, то полчится следующая строчка\n",
    "        dp = (p - y) / batch_size \n",
    "        dw1 = np.dot(x.T, dp) # производная по линейному преобразванию, относительно W - весов \n",
    "        db1 = np.sum(dp) # производная по лин преобразованиюб относительно В - баяса, \n",
    "        #здесь по идее должно быть перемножение на единичный вектор (128,1), но это тоже самое что и сумма значениеб типа лайф хак\n",
    "        \n",
    "        w1 -= learning_rate * dw1 # Обновим веса и баясы \n",
    "        b1 -= learning_rate * db1"
   ]
  },
  {
   "cell_type": "markdown",
   "metadata": {
    "id": "Lc3-pw-4wMum"
   },
   "source": [
    "А теперь построим график функции потерь"
   ]
  },
  {
   "cell_type": "code",
   "execution_count": 33,
   "metadata": {
    "colab": {
     "base_uri": "https://localhost:8080/",
     "height": 747
    },
    "id": "NvB4U5OXhE3t",
    "outputId": "6248bafc-51df-44a5-fc44-5c47efd21817"
   },
   "outputs": [
    {
     "data": {
      "text/plain": [
       "Text(0, 0.5, 'Loss function')"
      ]
     },
     "execution_count": 33,
     "metadata": {},
     "output_type": "execute_result"
    },
    {
     "data": {
      "image/png": "[encoded data removed]",
      "text/plain": [
       "<Figure size 1008x864 with 1 Axes>"
      ]
     },
     "metadata": {
      "needs_background": "light"
     },
     "output_type": "display_data"
    }
   ],
   "source": [
    "plt.figure(figsize=(14, 12))\n",
    "plt.plot(losses)\n",
    "plt.grid()\n",
    "plt.title('Training process')\n",
    "plt.xlabel('Iterations')\n",
    "plt.ylabel('Loss function')"
   ]
  },
  {
   "cell_type": "markdown",
   "metadata": {
    "id": "IfpCVrN2tO5S"
   },
   "source": [
    "## Математика \n",
    "\n",
    "\n",
    "![alt text](https://sun9-39.userapi.com/c850608/v850608777/47a4/fgZlI898IUU.jpg)\n",
    "![alt text](https://sun9-41.userapi.com/c858216/v858216777/cc4f5/v3CPa-tnm80.jpg)\n",
    "![alt text](https://sun9-67.userapi.com/c857632/v857632471/f6e95/H0dsmWsUInc.jpg)\n",
    "![alt text](https://sun9-71.userapi.com/c858120/v858120274/10d0ef/hdKO-3Syk3g.jpg)\n",
    "\n"
   ]
  },
  {
   "cell_type": "markdown",
   "metadata": {
    "id": "ToNAC3-bN_IN"
   },
   "source": [
    "А теперь ваша очередь, нужно написать двуслоный персептрон, согласно коду и выкладкам выше"
   ]
  },
  {
   "cell_type": "code",
   "execution_count": 87,
   "metadata": {
    "id": "yJSR8hdTN_IO",
    "outputId": "a929058d-7946-40e3-e9d7-f9bad80b1de3"
   },
   "outputs": [
    {
     "name": "stdout",
     "output_type": "stream",
     "text": [
      "Epoch: 1\n",
      "Epoch: 2\n",
      "Epoch: 3\n"
     ]
    }
   ],
   "source": [
    "### КОД СЮДА ###\n",
    "\n",
    "learning_rate = 0.001\n",
    "epochs = 3\n",
    "\n",
    "w1 = np.random.rand(n_feat,200)*0.01\n",
    "b1 = np.zeros(200)\n",
    "w2 = np.random.rand(200,1)*0.01\n",
    "b2 = np.zeros(1)\n",
    "\n",
    "losses = []\n",
    "\n",
    "for n_epoch in range(epochs):\n",
    "    \n",
    "    print(f'Epoch: {n_epoch + 1}')\n",
    "    \n",
    "    for x, y in train_loader:\n",
    "        \n",
    "        x = x.view(x.shape[0], -1).numpy()\n",
    "        y = np.expand_dims(y.numpy(), 1)\n",
    "        \n",
    "        ### КОД СЮДА ###\n",
    "        \n",
    "        # forward\n",
    "        z1 = x.dot(w1) + b1 #линейное преобразование\n",
    "        a1 = 1/(1+np.exp(-z1)) #применение нелинейности\n",
    "        z2 = a1.dot(w2) + b2 #нелинейное преобразование\n",
    "        pred = 1 / (1 + np.exp(-z2)) #функция активации\n",
    "        \n",
    "        # рассчет bce\n",
    "        bce = (-np.sum(np.multiply(np.log(pred), y) + np.multiply((1 - y), np.log(1 - pred)))) / batch_size \n",
    "        #расчет энтропии с усреднением по размеру бача\n",
    "        losses.append(bce) \n",
    "        \n",
    "        # backward        \n",
    "        d_BCE_d_pred = (1-y)/(1-pred) - y/pred #градиент функции потерь по pred\n",
    "        d_pred_dz2 = pred * (1-pred) #градиент сигмоиды по z2\n",
    "        \n",
    "        dw2 = (a1.T).dot(np.multiply((d_BCE_d_pred),(d_pred_dz2))) / batch_size\n",
    "        db2 = np.sum(np.multiply(d_BCE_d_pred, d_pred_dz2)) / batch_size\n",
    "        dw1 = np.dot((x.T), (np.multiply((d_BCE_d_pred),(d_pred_dz2)))*(np.multiply(w2.T, (1 - (np.exp(z1) - np.exp(-z1)) / (np.exp(z1) + np.exp(-z1))))))\n",
    "        db1 = np.sum((np.multiply((d_BCE_d_pred),(d_pred_dz2)))*(np.multiply(w2.T, (1 - (np.exp(z1) - np.exp(-z1)) / (np.exp(z1) + np.exp(-z1))))))\n",
    "     \n",
    "                     \n",
    "        # gradient descent\n",
    "        w1 -= learning_rate * dw1 # Обновим веса и баясы \n",
    "        b1 -= learning_rate * db1\n",
    "        w2 -= learning_rate * dw2\n",
    "        b2 -= learning_rate * db2"
   ]
  },
  {
   "cell_type": "markdown",
   "metadata": {
    "id": "ur7SqyVGN_IY"
   },
   "source": [
    "## Подсказки по размерностям\n",
    "\n",
    "### Forward\n",
    "\n",
    "- z1 - первое линейное преобразование - (BATCH_SIZE, INNER_FEATURES)\n",
    "- a1 - Применение нелинейности - (BATCH_SIZE, INNER_FEATURES)\n",
    "- z2 - второе нелинейное преобразование - (BATCH_SIZE, 1)\n",
    "- pred or A2- сигмоида - (BATCH_SIZE, 1)\n",
    "- loss - функция потерь - скаляр\n",
    "\n",
    "### Backward\n",
    "\n",
    "- d_BCE/d_pred - градиент функции потерь по pred - (BATCH_SIZE, 1)\n",
    "- d_pred/dz2 - градиент сигмоиды по z2 - (BATCH_SIZE, 1)\n",
    "- dz2/da1 - градиент линейного преобразования по a1 - (BATCH_SIZE, INNER_FEATURES)\n",
    "- dz2/dw2 - градиент линейного преобразования по w2 - (INNER_FEATURES, 1)\n",
    "- dz2/db2 - градиент линейного преобразования по b2 - (1,)\n",
    "- da1/dz1 - градиент нелинейной функции по z1 - (BATCH_SIZE, INNER_FEATURES)\n",
    "- dz1/dw1 - градиент линейного преобразования по w1 - (IN_FEATURES, INNER_FEATURES)\n",
    "- dz1/db1 - градиент линейного преобразования по b1 - (INNER_FEATURES,)"
   ]
  },
  {
   "cell_type": "markdown",
   "metadata": {
    "id": "ihOoASMAN_Ia"
   },
   "source": [
    "и график нарисуйте"
   ]
  },
  {
   "cell_type": "code",
   "execution_count": 88,
   "metadata": {
    "id": "CwRzXKRNN_Ic",
    "outputId": "a0cf5951-b66f-431d-9482-d258760039e1"
   },
   "outputs": [
    {
     "data": {
      "image/png": "[encoded data removed]",
      "text/plain": [
       "<Figure size 1008x864 with 1 Axes>"
      ]
     },
     "metadata": {
      "needs_background": "light"
     },
     "output_type": "display_data"
    }
   ],
   "source": [
    "plt.figure(figsize=(14, 12))\n",
    "plt.plot(losses)\n",
    "plt.grid()\n",
    "plt.title('Training process')\n",
    "plt.xlabel('Iterations')\n",
    "plt.ylabel('Loss function');"
   ]
  },
  {
   "cell_type": "markdown",
   "metadata": {
    "id": "axU2DnJ1IT1J"
   },
   "source": [
    "# Тестирование"
   ]
  },
  {
   "cell_type": "markdown",
   "metadata": {
    "id": "4sd8o1ZbIEXH"
   },
   "source": [
    "А как это тестировать? Да, очень просто нужно просто выполнять форвард без бэкворда, то есть последовательно применять преобразования с обученными весами"
   ]
  },
  {
   "cell_type": "code",
   "execution_count": 34,
   "metadata": {
    "id": "7DKeGWwzIliO"
   },
   "outputs": [],
   "source": [
    "losses_test = []\n",
    "predicted = []\n",
    "true_lbls = []\n",
    "\n",
    "for x, y in test_loader:\n",
    "\n",
    "  x = x.view(x.shape[0], -1).numpy()\n",
    "  y = np.expand_dims(y.numpy(), 1)\n",
    "\n",
    "  h1 = x.dot(w1) + b1 #переход в одномерное пространство\n",
    "  p = 1/(1+np.exp(-h1)) #преобразование в \"вероятности\"\n",
    "  \n",
    "  bce = (-np.sum(np.multiply(np.log(p), y) + np.multiply((1 - y), np.log(1 - p)))) / batch_size \n",
    "  #расчет энтропии с усреднением по размеру бача\n",
    "    \n",
    "  losses_test.append(bce)\n",
    "  predicted.extend(p)\n",
    "  true_lbls.extend(y) "
   ]
  },
  {
   "cell_type": "markdown",
   "metadata": {
    "id": "259SOuP5K2HR"
   },
   "source": [
    "Проверим, что для каждого семплау нас есть предсказание"
   ]
  },
  {
   "cell_type": "code",
   "execution_count": 35,
   "metadata": {
    "colab": {
     "base_uri": "https://localhost:8080/",
     "height": 34
    },
    "id": "J3NQGFxfJY-4",
    "outputId": "2f71ca0f-f296-481d-b076-1b80a4385b4e"
   },
   "outputs": [
    {
     "name": "stdout",
     "output_type": "stream",
     "text": [
      "2038 2038\n"
     ]
    }
   ],
   "source": [
    "print(len(predicted), len(true_lbls))"
   ]
  },
  {
   "cell_type": "markdown",
   "metadata": {
    "id": "xWJ3fjLhK9z4"
   },
   "source": [
    "Теперь применим стандартную Ф меру и оценим нашу модель"
   ]
  },
  {
   "cell_type": "code",
   "execution_count": 36,
   "metadata": {
    "colab": {
     "base_uri": "https://localhost:8080/",
     "height": 34
    },
    "id": "BbD-n9rVJlBe",
    "outputId": "1f3fb485-9ec7-42f6-aba8-6e390cef1b60"
   },
   "outputs": [
    {
     "name": "stdout",
     "output_type": "stream",
     "text": [
      "F1 score is equal to: 0.98\n"
     ]
    }
   ],
   "source": [
    "from sklearn.metrics import f1_score\n",
    "pred = np.array([round(i[0]) for i in predicted]) \n",
    "# У нас были вероятности а нужны классы поэтому просто округлим каждое значени и получим лейблы \n",
    "t_lbls = np.array(true_lbls).squeeze() #снимем лишнюю размерность\n",
    "f1 = f1_score(pred, t_lbls, average='weighted')\n",
    "print('F1 score is equal to: {0:0.02f}'.format(f1))"
   ]
  },
  {
   "cell_type": "markdown",
   "metadata": {
    "id": "vMxfUk9DLfNx"
   },
   "source": [
    "Сделайте тоже самое для своей модели..."
   ]
  },
  {
   "cell_type": "code",
   "execution_count": 89,
   "metadata": {
    "id": "plkig1rcLmG_"
   },
   "outputs": [],
   "source": [
    "losses_test = []\n",
    "predicted = []\n",
    "true_lbls = []\n",
    "\n",
    "for x, y in test_loader:\n",
    "\n",
    "    x = x.view(x.shape[0], -1).numpy()\n",
    "    y = np.expand_dims(y.numpy(), 1)\n",
    "\n",
    "    z1 = x.dot(w1) + b1 #линейное преобразование\n",
    "    a1 = 1/(1+np.exp(-z1)) #применение нелинейности\n",
    "    z2 = a1.dot(w2) + b2 #нелинейное преобразование\n",
    "    pred = 1 / (1 + np.exp(-z2)) #функция активации\n",
    "  \n",
    "    bce = (-np.sum(np.multiply(np.log(pred), y) + np.multiply((1 - y), np.log(1 - pred)))) / batch_size  \n",
    "    #расчет энтропии с усреднением по размеру бача\n",
    "    \n",
    "    losses_test.append(bce)\n",
    "    predicted.extend(pred)\n",
    "    true_lbls.extend(y) "
   ]
  },
  {
   "cell_type": "code",
   "execution_count": 90,
   "metadata": {},
   "outputs": [
    {
     "name": "stdout",
     "output_type": "stream",
     "text": [
      "2038 2038\n"
     ]
    }
   ],
   "source": [
    "print(len(predicted), len(true_lbls))"
   ]
  },
  {
   "cell_type": "code",
   "execution_count": 91,
   "metadata": {},
   "outputs": [
    {
     "name": "stdout",
     "output_type": "stream",
     "text": [
      "F1 score is equal to: 0.81\n"
     ]
    }
   ],
   "source": [
    "from sklearn.metrics import f1_score\n",
    "pred = np.array([round(i[0]) for i in predicted]) \n",
    "# У нас были вероятности а нужны классы поэтому просто округлим каждое значени и получим лейблы \n",
    "t_lbls = np.array(true_lbls).squeeze() #снимем лишнюю размерность\n",
    "f1 = f1_score(pred, t_lbls, average='weighted')\n",
    "print('F1 score is equal to: {0:0.02f}'.format(f1))"
   ]
  },
  {
   "cell_type": "markdown",
   "metadata": {
    "id": "zHg6S-QgN_Mm"
   },
   "source": [
    "# Немного торча"
   ]
  },
  {
   "cell_type": "code",
   "execution_count": 58,
   "metadata": {
    "id": "rWON-EQvN_Mn"
   },
   "outputs": [],
   "source": [
    "import torch"
   ]
  },
  {
   "cell_type": "markdown",
   "metadata": {
    "id": "MYyJMcmQN_Mq"
   },
   "source": [
    "### Мы можем определить нашу модель как последовательность уже существующих слоев, как в керасе"
   ]
  },
  {
   "cell_type": "code",
   "execution_count": 59,
   "metadata": {
    "colab": {
     "base_uri": "https://localhost:8080/"
    },
    "id": "7WkLbwyAN_Mr",
    "outputId": "701a7938-6d56-4870-e967-99302c50b4f5"
   },
   "outputs": [
    {
     "data": {
      "text/plain": [
       "Sequential(\n",
       "  (linear_1): Linear(in_features=784, out_features=256, bias=True)\n",
       "  (relu): ReLU()\n",
       "  (linear_2): Linear(in_features=256, out_features=1, bias=True)\n",
       "  (sigmoid): Sigmoid()\n",
       ")"
      ]
     },
     "execution_count": 59,
     "metadata": {},
     "output_type": "execute_result"
    }
   ],
   "source": [
    "model = torch.nn.Sequential()\n",
    "\n",
    "model.add_module(name='linear_1', module=torch.nn.Linear(in_features=784, out_features=256))\n",
    "model.add_module(name='relu', module=torch.nn.ReLU())\n",
    "model.add_module(name='linear_2', module=torch.nn.Linear(in_features=256, out_features=1))\n",
    "model.add_module(name='sigmoid', module=torch.nn.Sigmoid())\n",
    "\n",
    "model"
   ]
  },
  {
   "cell_type": "markdown",
   "metadata": {
    "id": "xFnSynhmN_Mw"
   },
   "source": [
    "### Либо так"
   ]
  },
  {
   "cell_type": "code",
   "execution_count": 60,
   "metadata": {
    "colab": {
     "base_uri": "https://localhost:8080/"
    },
    "id": "NjBXbnSNN_Mx",
    "outputId": "8fc4430a-67b3-410d-b201-2a076d03c67a"
   },
   "outputs": [
    {
     "data": {
      "text/plain": [
       "Sequential(\n",
       "  (0): Linear(in_features=784, out_features=256, bias=True)\n",
       "  (1): ReLU()\n",
       "  (2): Linear(in_features=256, out_features=1, bias=True)\n",
       "  (3): Sigmoid()\n",
       ")"
      ]
     },
     "execution_count": 60,
     "metadata": {},
     "output_type": "execute_result"
    }
   ],
   "source": [
    "model = torch.nn.Sequential(\n",
    "    torch.nn.Linear(in_features=784, out_features=256),\n",
    "    torch.nn.ReLU(),\n",
    "    torch.nn.Linear(in_features=256, out_features=1),\n",
    "    torch.nn.Sigmoid()\n",
    ")\n",
    "\n",
    "model"
   ]
  },
  {
   "cell_type": "markdown",
   "metadata": {
    "id": "MKOnBBifN_M1"
   },
   "source": [
    "## А вот для чего нужно было писать в домашке классы\n",
    "## Для определения своих моделей/слоев/чего вам захочется нам нужно сделать такую структуру"
   ]
  },
  {
   "cell_type": "code",
   "execution_count": 61,
   "metadata": {
    "id": "iNXM6WnUN_M9"
   },
   "outputs": [],
   "source": [
    "# наследуемся от класса torch.nn.Module\n",
    "class MLP(torch.nn.Module):\n",
    "    \n",
    "    # определяем метод __init__\n",
    "    # он нужен для того, чтобы мы могли определить нужные нам слои, веса, сохраняемые операции\n",
    "    # \n",
    "    # передаем ссылку на самого себя первым параметром\n",
    "    # \n",
    "    # определяем любые другие передаваемые аргументы\n",
    "    # могут быть чем угодно: числа, словари, другие слои, другие модели и вообще все что угодно\n",
    "    # \n",
    "    def __init__(self, in_features, inner_features, out_features):\n",
    "        \n",
    "        # Главная задача этого метода - возможность использования в классе потомке, методов класса-родителя\n",
    "        # Вызываем __init__ родителя - torch.nn.Module\n",
    "        super().__init__()\n",
    "        \n",
    "        # определяем слои и все что захотим сохранять/использовать\n",
    "        self.linear_1 = torch.nn.Linear(in_features=in_features, out_features=inner_features)\n",
    "        self.non_linear_function = torch.nn.ReLU()\n",
    "        self.linear_2 = torch.nn.Linear(in_features=inner_features, out_features=out_features)\n",
    "        self.sigmoid = torch.nn.Sigmoid()\n",
    "        \n",
    "    # нам нужно обязательно реализовать метод forward\n",
    "    # это то, что нашей модели нужно делать, как оперировать с входными данными, как рассчитывать\n",
    "    # метод backward нам не нужно реализовывать, потому что в торче есть автоматическое дифференцирование\n",
    "    # главное, чтобы наши операции были дифференцируемы\n",
    "    # некоторые подробности можете узнать здесь:\n",
    "    # https://pytorch.org/tutorials/beginner/blitz/autograd_tutorial.html#sphx-glr-beginner-blitz-autograd-tutorial-py\n",
    "    # также список доступных дифференцируемых операций можете посмотреть здесь:\n",
    "    # https://pytorch.org/docs/stable/tensors.html\n",
    "    def forward(self, x):\n",
    "        \n",
    "        # наша привычная схема\n",
    "        x = self.linear_1(x)\n",
    "        x = self.non_linear_function(x)\n",
    "        x = self.linear_2(x)\n",
    "        x = self.sigmoid(x)\n",
    "        \n",
    "        return x\n",
    "    \n",
    "    # мы также можем реализовать любые другие полезные нам методы внутри класса"
   ]
  },
  {
   "cell_type": "code",
   "execution_count": 62,
   "metadata": {
    "id": "Ftetvx8MN_NA"
   },
   "outputs": [],
   "source": [
    "# определяем нашу модель\n",
    "model = MLP(in_features=784, inner_features=256, out_features=1)"
   ]
  },
  {
   "cell_type": "code",
   "execution_count": 63,
   "metadata": {
    "colab": {
     "base_uri": "https://localhost:8080/"
    },
    "id": "G3zivrXiN_ND",
    "outputId": "c9cc05c0-44ca-4bd6-d7bd-2207123cf41b",
    "scrolled": true
   },
   "outputs": [
    {
     "data": {
      "text/plain": [
       "MLP(\n",
       "  (linear_1): Linear(in_features=784, out_features=256, bias=True)\n",
       "  (non_linear_function): ReLU()\n",
       "  (linear_2): Linear(in_features=256, out_features=1, bias=True)\n",
       "  (sigmoid): Sigmoid()\n",
       ")"
      ]
     },
     "execution_count": 63,
     "metadata": {},
     "output_type": "execute_result"
    }
   ],
   "source": [
    "model"
   ]
  },
  {
   "cell_type": "code",
   "execution_count": 64,
   "metadata": {
    "colab": {
     "base_uri": "https://localhost:8080/"
    },
    "id": "pa4BG_t_N_NG",
    "outputId": "ac7dbe4a-e253-4ba5-f5ee-8da36cd5b715"
   },
   "outputs": [
    {
     "data": {
      "text/plain": [
       "torch.Size([256, 784])"
      ]
     },
     "execution_count": 64,
     "metadata": {},
     "output_type": "execute_result"
    }
   ],
   "source": [
    "# можем посмотреть веса\n",
    "model.linear_1.weight.shape"
   ]
  },
  {
   "cell_type": "code",
   "execution_count": 65,
   "metadata": {
    "id": "n2hPqcyxN_NQ"
   },
   "outputs": [],
   "source": [
    "# еще нам нужно задать функцию потерь \n",
    "criterion = torch.nn.BCELoss()"
   ]
  },
  {
   "cell_type": "code",
   "execution_count": 66,
   "metadata": {
    "id": "IEpYutCqN_Na"
   },
   "outputs": [],
   "source": [
    "# и оптимизатор, куда нужно передать параметры модели\n",
    "# параметры модели можно взять методом класса .parameters()\n",
    "optimizer = torch.optim.SGD(params=model.parameters(), lr=0.01)"
   ]
  },
  {
   "cell_type": "code",
   "execution_count": 67,
   "metadata": {
    "colab": {
     "base_uri": "https://localhost:8080/"
    },
    "id": "V-ssB6KsN_Nf",
    "outputId": "2538defa-f558-49d4-8103-e415be2c4d62"
   },
   "outputs": [
    {
     "data": {
      "text/plain": [
       "[Parameter containing:\n",
       " tensor([[-0.0341,  0.0352,  0.0173,  ..., -0.0131,  0.0022, -0.0068],\n",
       "         [ 0.0285,  0.0079,  0.0016,  ..., -0.0033,  0.0320, -0.0325],\n",
       "         [ 0.0242, -0.0183, -0.0114,  ...,  0.0344,  0.0106, -0.0086],\n",
       "         ...,\n",
       "         [ 0.0071,  0.0162, -0.0035,  ...,  0.0346,  0.0112,  0.0157],\n",
       "         [ 0.0267, -0.0326, -0.0312,  ..., -0.0014,  0.0182,  0.0155],\n",
       "         [ 0.0071, -0.0334, -0.0121,  ...,  0.0063,  0.0164, -0.0282]],\n",
       "        requires_grad=True),\n",
       " Parameter containing:\n",
       " tensor([-0.0013, -0.0108,  0.0105, -0.0136, -0.0044,  0.0219,  0.0013,  0.0259,\n",
       "         -0.0214,  0.0241, -0.0163, -0.0317, -0.0297,  0.0108,  0.0009,  0.0050,\n",
       "         -0.0145, -0.0329,  0.0020,  0.0086, -0.0023,  0.0129, -0.0064,  0.0304,\n",
       "          0.0357,  0.0311,  0.0126,  0.0085,  0.0280, -0.0088,  0.0061,  0.0320,\n",
       "         -0.0356,  0.0074,  0.0093,  0.0026, -0.0221, -0.0270, -0.0005,  0.0276,\n",
       "          0.0141, -0.0013,  0.0234,  0.0058,  0.0056,  0.0237,  0.0333,  0.0310,\n",
       "         -0.0309, -0.0012, -0.0027, -0.0182, -0.0225,  0.0258,  0.0025,  0.0018,\n",
       "         -0.0031, -0.0255, -0.0355, -0.0014, -0.0353,  0.0338,  0.0097,  0.0272,\n",
       "          0.0046, -0.0215, -0.0165,  0.0286,  0.0155,  0.0180, -0.0235,  0.0123,\n",
       "          0.0345,  0.0091, -0.0176,  0.0190, -0.0169,  0.0142, -0.0143, -0.0270,\n",
       "         -0.0139,  0.0095,  0.0096, -0.0342,  0.0159,  0.0269,  0.0008,  0.0312,\n",
       "          0.0020, -0.0225,  0.0021, -0.0098, -0.0339, -0.0033,  0.0339,  0.0212,\n",
       "         -0.0045, -0.0320, -0.0020,  0.0205, -0.0180, -0.0038,  0.0189, -0.0065,\n",
       "         -0.0026, -0.0092, -0.0254,  0.0347, -0.0154, -0.0093, -0.0298, -0.0176,\n",
       "          0.0188,  0.0312,  0.0151,  0.0014,  0.0175,  0.0269,  0.0029,  0.0013,\n",
       "          0.0353,  0.0132, -0.0063,  0.0298,  0.0227, -0.0044,  0.0221,  0.0206,\n",
       "         -0.0095,  0.0352,  0.0046,  0.0194, -0.0264,  0.0357,  0.0356,  0.0190,\n",
       "          0.0065, -0.0019, -0.0141, -0.0004, -0.0301,  0.0289,  0.0140,  0.0303,\n",
       "          0.0056,  0.0176, -0.0077,  0.0054, -0.0062,  0.0233,  0.0144, -0.0113,\n",
       "         -0.0029,  0.0052,  0.0319, -0.0074,  0.0208,  0.0252, -0.0264,  0.0016,\n",
       "          0.0083,  0.0321, -0.0080,  0.0343, -0.0081,  0.0054,  0.0180,  0.0092,\n",
       "          0.0313,  0.0015,  0.0202, -0.0235, -0.0006,  0.0034, -0.0275, -0.0154,\n",
       "         -0.0183,  0.0131, -0.0249,  0.0070,  0.0214, -0.0091,  0.0030, -0.0180,\n",
       "          0.0084, -0.0127, -0.0213, -0.0095,  0.0258,  0.0068, -0.0057,  0.0291,\n",
       "          0.0149, -0.0329,  0.0197, -0.0086,  0.0206, -0.0269,  0.0006, -0.0201,\n",
       "          0.0035,  0.0306, -0.0320,  0.0172, -0.0204,  0.0149, -0.0124,  0.0231,\n",
       "         -0.0349,  0.0291,  0.0184,  0.0043,  0.0347,  0.0264,  0.0183, -0.0226,\n",
       "          0.0108,  0.0215,  0.0342,  0.0241, -0.0034, -0.0068,  0.0168, -0.0305,\n",
       "          0.0273, -0.0053,  0.0334,  0.0078,  0.0278,  0.0010, -0.0353,  0.0140,\n",
       "          0.0041, -0.0078, -0.0232, -0.0329,  0.0016,  0.0260,  0.0226, -0.0278,\n",
       "         -0.0175, -0.0036,  0.0080, -0.0109, -0.0162, -0.0227,  0.0006,  0.0353,\n",
       "         -0.0244,  0.0231, -0.0236, -0.0275, -0.0221, -0.0273, -0.0337,  0.0167],\n",
       "        requires_grad=True),\n",
       " Parameter containing:\n",
       " tensor([[-0.0428,  0.0580, -0.0489,  0.0179,  0.0442, -0.0581, -0.0336, -0.0510,\n",
       "          -0.0622,  0.0125,  0.0112,  0.0181, -0.0604, -0.0226,  0.0021,  0.0346,\n",
       "          -0.0007,  0.0480, -0.0013,  0.0600, -0.0047, -0.0272, -0.0176,  0.0567,\n",
       "           0.0535, -0.0046,  0.0541,  0.0312,  0.0001, -0.0417,  0.0227, -0.0411,\n",
       "          -0.0045,  0.0093,  0.0334,  0.0286,  0.0200, -0.0445,  0.0582, -0.0073,\n",
       "          -0.0507,  0.0546, -0.0576, -0.0337,  0.0574,  0.0079,  0.0573, -0.0534,\n",
       "           0.0241, -0.0215,  0.0003, -0.0368, -0.0376,  0.0090, -0.0293,  0.0467,\n",
       "          -0.0311,  0.0297, -0.0122,  0.0256,  0.0392,  0.0245,  0.0380,  0.0304,\n",
       "           0.0002,  0.0543, -0.0171,  0.0552,  0.0233, -0.0417, -0.0104,  0.0523,\n",
       "           0.0234,  0.0455,  0.0166,  0.0232, -0.0428,  0.0088,  0.0288, -0.0286,\n",
       "           0.0454,  0.0529,  0.0258,  0.0397,  0.0200,  0.0592,  0.0161, -0.0567,\n",
       "          -0.0185, -0.0273,  0.0118, -0.0175, -0.0492, -0.0537, -0.0097, -0.0324,\n",
       "           0.0341,  0.0121, -0.0129, -0.0282, -0.0478,  0.0437, -0.0579,  0.0175,\n",
       "          -0.0499, -0.0226, -0.0280,  0.0102, -0.0419,  0.0262, -0.0539, -0.0582,\n",
       "          -0.0156, -0.0575, -0.0248,  0.0212,  0.0577,  0.0583, -0.0470,  0.0155,\n",
       "          -0.0056,  0.0078, -0.0618,  0.0109,  0.0428, -0.0128,  0.0013,  0.0444,\n",
       "          -0.0587, -0.0192, -0.0433,  0.0492, -0.0137, -0.0475,  0.0334, -0.0371,\n",
       "          -0.0158, -0.0217,  0.0605, -0.0137, -0.0455, -0.0269, -0.0079, -0.0125,\n",
       "           0.0066,  0.0022, -0.0617,  0.0158,  0.0393, -0.0229,  0.0190, -0.0546,\n",
       "           0.0475,  0.0309,  0.0427,  0.0392, -0.0292,  0.0436,  0.0323,  0.0508,\n",
       "           0.0260,  0.0474, -0.0356, -0.0401,  0.0331, -0.0004, -0.0029,  0.0399,\n",
       "          -0.0566,  0.0524,  0.0073,  0.0167, -0.0069, -0.0272,  0.0267, -0.0432,\n",
       "           0.0004,  0.0020,  0.0102,  0.0568, -0.0418, -0.0082, -0.0189,  0.0506,\n",
       "          -0.0577, -0.0149, -0.0124,  0.0314,  0.0233, -0.0231,  0.0076, -0.0427,\n",
       "           0.0350,  0.0104, -0.0411,  0.0316,  0.0080, -0.0074, -0.0226,  0.0099,\n",
       "          -0.0478,  0.0592,  0.0142, -0.0159, -0.0122, -0.0240, -0.0454,  0.0170,\n",
       "           0.0249, -0.0252, -0.0511,  0.0337, -0.0237,  0.0501,  0.0222,  0.0468,\n",
       "          -0.0024, -0.0078,  0.0601, -0.0211,  0.0370, -0.0625,  0.0204,  0.0196,\n",
       "           0.0465, -0.0176,  0.0456, -0.0323, -0.0561,  0.0081, -0.0078,  0.0320,\n",
       "           0.0001,  0.0215, -0.0355,  0.0618, -0.0503,  0.0507,  0.0544, -0.0536,\n",
       "           0.0024,  0.0143, -0.0328, -0.0176, -0.0418, -0.0585,  0.0512,  0.0475,\n",
       "           0.0614,  0.0116, -0.0619,  0.0247, -0.0521, -0.0557, -0.0233, -0.0003]],\n",
       "        requires_grad=True),\n",
       " Parameter containing:\n",
       " tensor([0.0265], requires_grad=True)]"
      ]
     },
     "execution_count": 67,
     "metadata": {},
     "output_type": "execute_result"
    }
   ],
   "source": [
    "# можем посмотреть на параметры нашей модели\n",
    "params = list(model.parameters())\n",
    "params"
   ]
  },
  {
   "cell_type": "markdown",
   "metadata": {
    "id": "5dnDbvw0N_No"
   },
   "source": [
    "# Обучим нашу модель"
   ]
  },
  {
   "cell_type": "code",
   "execution_count": 68,
   "metadata": {
    "colab": {
     "base_uri": "https://localhost:8080/",
     "height": 235
    },
    "id": "O8ayasdLN_Np",
    "outputId": "562e950a-927e-4dfa-971f-4248c56b5a9a"
   },
   "outputs": [],
   "source": [
    "# давайте сохранять значения нашей функции потерь каждую итерацию обучения\n",
    "losses = []\n",
    "\n",
    "# эта штука все еще отдает нам батчи данных\n",
    "# мы поговорим про нее позже\n",
    "for x, y in train_loader:\n",
    "\n",
    "    x = x.view(x.shape[0], -1)\n",
    "    y = y.unsqueeze(1).float()\n",
    "    \n",
    "    # обновим наши градиенты\n",
    "    # будем делать это каждую итерацию обучения\n",
    "    # потому что торч сохраняет в себе все градиенты пока не удалите таким образом рассчитанные градиенты\n",
    "    # \n",
    "    # НЕОБЯЗАТЕЛЬНЫЕ ДЕТАЛИ\n",
    "    # функция сохранения градиентов нужна для аккамуляции градиентов\n",
    "    # например, когда нам не хватает памяти на большой батч\n",
    "    # мы можем несколько раз прогнать forward на разных батчах\n",
    "    # наши градиенты будут сохраняться\n",
    "    # и только потом обновить через несколько итераций forward обновить наши веса\n",
    "    # таким образом у нас получается больше батч\n",
    "    # \n",
    "    optimizer.zero_grad()\n",
    "    \n",
    "    # \n",
    "    # предсказание нашей модели\n",
    "    # здесь торч сам сохраняет необходимую информацию\n",
    "    # чтобы понять эту логику у нас как раз и была часть домашки про собственные классы\n",
    "    # \n",
    "    # торч строит динамический граф вычислений\n",
    "    # то есть строит граф по тем операциям, которые вы определили в методе forward\n",
    "    # \n",
    "    # то есть торч понимает, что вы сначала применили линейное преобразование\n",
    "    # знает, где лежат веса для этого линейного преобразования\n",
    "    # знает, что вы затем применили релу\n",
    "    # затем опять линейное преобразование\n",
    "    # затем сигмоиду\n",
    "    # и вот таким образом торч выстроил граф\n",
    "    # который нужен будет для backpropogation\n",
    "    # \n",
    "    pred = model(x)\n",
    "    \n",
    "    # \n",
    "    # рассчитываем функцию потерь, добавляя в наш граф вычислений этот узел\n",
    "    # \n",
    "    loss = criterion(pred, y.float())\n",
    "    \n",
    "    # \n",
    "    # вызываем метод backward() от нашей функции потерь (это крайний узел нашего графа вычислений)\n",
    "    # этот метод проходит от конца графа в начало, вычисляя необходимые градиенты\n",
    "    # передаем градиенты на следующие узлы\n",
    "    # для весов сохраняет\n",
    "    # \n",
    "    # то есть это почти то же самое, что мы делали в домашке с классами\n",
    "    # \n",
    "    loss.backward()\n",
    "    \n",
    "    # \n",
    "    # теперь мы знаем необходимые градиенты и можем обновить веса с помощью градиентного спуска\n",
    "    # \n",
    "    optimizer.step()\n",
    "    \n",
    "    # \n",
    "    # сохраним текущее значение функции потерь, чтобы потом могли посмотреть на график\n",
    "    # очень важный момент: нам нужно отсоединить значение нашей фунции потерь от графа вычислений\n",
    "    # чтобы граф не строился дальше на каждой итерации обучения\n",
    "    # так мы рано или поздно переполним память\n",
    "    # поэтому вызываем этот метод\n",
    "    # работает для скаляров\n",
    "    # \n",
    "    # для тензоров работает метод .tolist()\n",
    "    # \n",
    "    current_loss_value = loss.item()\n",
    "    losses.append(loss.item())"
   ]
  },
  {
   "cell_type": "code",
   "execution_count": 69,
   "metadata": {
    "id": "KhopLN33N_Nw"
   },
   "outputs": [],
   "source": [
    "# Одна эпоха прошла"
   ]
  },
  {
   "cell_type": "code",
   "execution_count": 70,
   "metadata": {
    "colab": {
     "base_uri": "https://localhost:8080/",
     "height": 235
    },
    "id": "SIGFnAeMN_Nz",
    "outputId": "e225e2b2-28dd-4ffa-d8b6-fd42ebca2e08"
   },
   "outputs": [
    {
     "data": {
      "image/png": "[encoded data removed]",
      "text/plain": [
       "<Figure size 1008x864 with 1 Axes>"
      ]
     },
     "metadata": {
      "needs_background": "light"
     },
     "output_type": "display_data"
    }
   ],
   "source": [
    "plt.figure(figsize=(14, 12))\n",
    "plt.plot(losses)\n",
    "plt.grid()\n",
    "plt.title('Training process')\n",
    "plt.xlabel('Iterations')\n",
    "plt.ylabel('Loss function');"
   ]
  },
  {
   "cell_type": "markdown",
   "metadata": {
    "id": "8oBFJlYrN_N3"
   },
   "source": [
    "# Теперь мы можем что-то предсказать"
   ]
  },
  {
   "cell_type": "code",
   "execution_count": 71,
   "metadata": {
    "id": "pYQ-5cXnN_N4"
   },
   "outputs": [],
   "source": [
    "for x, y in test_loader:\n",
    "\n",
    "    x = x.view(x.shape[0], -1)\n",
    "    y = y.unsqueeze(1).float()\n",
    "    \n",
    "    # чтобы не ходить по всему тестовому датасету, прекратим ходить после первой итерации\n",
    "    break"
   ]
  },
  {
   "cell_type": "code",
   "execution_count": 72,
   "metadata": {
    "id": "Rb3ImXPNN_N_",
    "outputId": "a9ea50e8-2230-4b85-b1e2-d75408597581"
   },
   "outputs": [
    {
     "data": {
      "text/plain": [
       "torch.Size([128, 784])"
      ]
     },
     "execution_count": 72,
     "metadata": {},
     "output_type": "execute_result"
    }
   ],
   "source": [
    "x.shape"
   ]
  },
  {
   "cell_type": "code",
   "execution_count": 73,
   "metadata": {
    "id": "5V_GO6_zN_OE",
    "outputId": "b12de3e1-6478-42b4-82a4-230411f251a6"
   },
   "outputs": [
    {
     "data": {
      "text/plain": [
       "torch.Size([128, 1])"
      ]
     },
     "execution_count": 73,
     "metadata": {},
     "output_type": "execute_result"
    }
   ],
   "source": [
    "y.shape"
   ]
  },
  {
   "cell_type": "code",
   "execution_count": 74,
   "metadata": {
    "id": "_zHM8GRpN_OG",
    "outputId": "1526be79-e75b-4b8f-c7e0-771c0e7960ba"
   },
   "outputs": [
    {
     "data": {
      "text/plain": [
       "MLP(\n",
       "  (linear_1): Linear(in_features=784, out_features=256, bias=True)\n",
       "  (non_linear_function): ReLU()\n",
       "  (linear_2): Linear(in_features=256, out_features=1, bias=True)\n",
       "  (sigmoid): Sigmoid()\n",
       ")"
      ]
     },
     "execution_count": 74,
     "metadata": {},
     "output_type": "execute_result"
    }
   ],
   "source": [
    "# переходим в режим предсказания\n",
    "# \n",
    "# позже в курсе мы разберем зачем конкретно это нужно\n",
    "# \n",
    "# для искушенного нетерпеливого читателя: дропаут больше не дропаутит, батч норм больше не нормирует каждый батч\n",
    "# а использует накопленную статистику при обучении и тд\n",
    "# \n",
    "model.eval()"
   ]
  },
  {
   "cell_type": "code",
   "execution_count": 75,
   "metadata": {
    "id": "CT4N0ZAPN_OI"
   },
   "outputs": [],
   "source": [
    "# этот контект позволяет не сохранять необходимую информацию для рассчета градиентов\n",
    "with torch.no_grad():\n",
    "\n",
    "    pred = model(x)"
   ]
  },
  {
   "cell_type": "code",
   "execution_count": 76,
   "metadata": {
    "id": "R48ZI_iJN_OK",
    "outputId": "193d89f9-61e1-4a96-8445-7b47d57ff8d1"
   },
   "outputs": [
    {
     "data": {
      "text/plain": [
       "torch.Size([128, 1])"
      ]
     },
     "execution_count": 76,
     "metadata": {},
     "output_type": "execute_result"
    }
   ],
   "source": [
    "pred.shape"
   ]
  },
  {
   "cell_type": "code",
   "execution_count": 77,
   "metadata": {
    "id": "Azbcidg1N_OM"
   },
   "outputs": [],
   "source": [
    "# избавимся от единичной размерности\n",
    "pred = pred.squeeze()\n",
    "y = y.squeeze()"
   ]
  },
  {
   "cell_type": "code",
   "execution_count": 78,
   "metadata": {
    "id": "L7zm8vzBN_OO",
    "outputId": "67f0fe47-50f7-44c8-9148-701fdec25e1f"
   },
   "outputs": [
    {
     "data": {
      "text/plain": [
       "torch.Size([128])"
      ]
     },
     "execution_count": 78,
     "metadata": {},
     "output_type": "execute_result"
    }
   ],
   "source": [
    "pred.shape"
   ]
  },
  {
   "cell_type": "code",
   "execution_count": 79,
   "metadata": {
    "id": "JBARJLDIN_OT"
   },
   "outputs": [],
   "source": [
    "# таким образом из торчовых тензоров мы можем сделать нумпаевские массивы\n",
    "pred = pred.numpy()\n",
    "y = y.numpy()"
   ]
  },
  {
   "cell_type": "code",
   "execution_count": 80,
   "metadata": {
    "id": "8Y4gi0q7N_OZ",
    "outputId": "a170d0d4-c6a8-408e-c3bf-1148de786113"
   },
   "outputs": [
    {
     "data": {
      "text/plain": [
       "array([1., 1., 0., 1., 0., 0., 1., 1., 1., 0., 0., 1., 0., 1., 0., 1., 1.,\n",
       "       0., 1., 1., 1., 1., 0., 0., 0., 1., 1., 0., 1., 1., 1., 1., 1., 0.,\n",
       "       1., 0., 1., 0., 1., 0., 0., 0., 0., 0., 1., 1., 1., 0., 0., 1., 1.,\n",
       "       0., 1., 1., 1., 1., 0., 1., 1., 1., 0., 0., 0., 0., 1., 0., 0., 1.,\n",
       "       0., 0., 1., 0., 1., 0., 0., 1., 0., 0., 1., 1., 1., 1., 0., 1., 0.,\n",
       "       0., 0., 0., 0., 0., 1., 1., 0., 1., 0., 0., 0., 1., 0., 1., 0., 0.,\n",
       "       0., 0., 0., 1., 1., 1., 1., 0., 0., 0., 0., 0., 0., 1., 1., 0., 0.,\n",
       "       1., 0., 1., 1., 0., 1., 0., 0., 1.], dtype=float32)"
      ]
     },
     "execution_count": 80,
     "metadata": {},
     "output_type": "execute_result"
    }
   ],
   "source": [
    "y"
   ]
  },
  {
   "cell_type": "code",
   "execution_count": 81,
   "metadata": {
    "id": "QPlZdMfiN_Og",
    "outputId": "3673c2d3-fffe-4112-97d7-a31c06691daa"
   },
   "outputs": [
    {
     "data": {
      "text/plain": [
       "numpy.ndarray"
      ]
     },
     "execution_count": 81,
     "metadata": {},
     "output_type": "execute_result"
    }
   ],
   "source": [
    "type(y)"
   ]
  },
  {
   "cell_type": "code",
   "execution_count": 82,
   "metadata": {
    "id": "Ck7Voa7HN_Ok"
   },
   "outputs": [],
   "source": [
    "# бинаризируем наши предсказания\n",
    "pred[pred > 0.5] = 1\n",
    "pred[pred <= 0.5] = 0"
   ]
  },
  {
   "cell_type": "code",
   "execution_count": 83,
   "metadata": {
    "id": "Ts85uzXFN_Om",
    "outputId": "62122006-ec73-4b48-ccb2-ca6ad01d42a2"
   },
   "outputs": [
    {
     "data": {
      "text/plain": [
       "0.9609375"
      ]
     },
     "execution_count": 83,
     "metadata": {},
     "output_type": "execute_result"
    }
   ],
   "source": [
    "# посчитаем метрику на батче\n",
    "accuracy_score(y, pred)"
   ]
  },
  {
   "cell_type": "code",
   "execution_count": 84,
   "metadata": {
    "id": "yoynJ1-2N_Op"
   },
   "outputs": [],
   "source": [
    "# заново определим нашу модель и выучимся несколько эпох\n",
    "# будут уже новые параметры\n",
    "model = MLP(in_features=784, inner_features=256, out_features=1)\n",
    "\n",
    "criterion = torch.nn.BCELoss()\n",
    "# мы позже поговорим про этот оптимизационный алгоритм\n",
    "optimizer = torch.optim.Adam(params=model.parameters())"
   ]
  },
  {
   "cell_type": "markdown",
   "metadata": {
    "id": "hzBgaRe7N_Os"
   },
   "source": [
    "# Типичный цикл обучения с кучей сохранений лоссов"
   ]
  },
  {
   "cell_type": "code",
   "execution_count": 85,
   "metadata": {
    "id": "1zO6ruQbN_Ot",
    "outputId": "7d4304f2-a0f5-4c08-bd00-098719fe4df9"
   },
   "outputs": [
    {
     "name": "stderr",
     "output_type": "stream",
     "text": [
      "Epoch 1: 100%|██████████████████████████████████████████████| 12396/12396 [00:02<00:00, 4758.10it/s, train_loss=0.0647]\n"
     ]
    },
    {
     "name": "stdout",
     "output_type": "stream",
     "text": [
      "Losses: train - 0.065, test = 0.039\n",
      "Test: accuracy - 0.986\n"
     ]
    },
    {
     "name": "stderr",
     "output_type": "stream",
     "text": [
      "Epoch 2: 100%|██████████████████████████████████████████████| 12396/12396 [00:02<00:00, 4930.24it/s, train_loss=0.0265]\n"
     ]
    },
    {
     "name": "stdout",
     "output_type": "stream",
     "text": [
      "Losses: train - 0.027, test = 0.029\n",
      "Test: accuracy - 0.989\n"
     ]
    },
    {
     "name": "stderr",
     "output_type": "stream",
     "text": [
      "Epoch 3: 100%|██████████████████████████████████████████████| 12396/12396 [00:02<00:00, 4862.56it/s, train_loss=0.0164]\n"
     ]
    },
    {
     "name": "stdout",
     "output_type": "stream",
     "text": [
      "Losses: train - 0.016, test = 0.024\n",
      "Test: accuracy - 0.992\n"
     ]
    },
    {
     "name": "stderr",
     "output_type": "stream",
     "text": [
      "Epoch 4: 100%|██████████████████████████████████████████████| 12396/12396 [00:02<00:00, 4758.91it/s, train_loss=0.0108]\n"
     ]
    },
    {
     "name": "stdout",
     "output_type": "stream",
     "text": [
      "Losses: train - 0.011, test = 0.021\n",
      "Test: accuracy - 0.994\n"
     ]
    },
    {
     "name": "stderr",
     "output_type": "stream",
     "text": [
      "Epoch 5: 100%|█████████████████████████████████████████████| 12396/12396 [00:02<00:00, 4897.51it/s, train_loss=0.00868]\n"
     ]
    },
    {
     "name": "stdout",
     "output_type": "stream",
     "text": [
      "Losses: train - 0.009, test = 0.022\n",
      "Test: accuracy - 0.993\n",
      "Early stopping\n"
     ]
    }
   ],
   "source": [
    "epochs = 10\n",
    "losses = []\n",
    "# нужно для early stopping, то есть трекать лучший лосс на валидации\n",
    "best_test_loss = 10.\n",
    "\n",
    "for n_epoch in range(epochs):\n",
    "    \n",
    "    train_losses = []\n",
    "    test_losses = []\n",
    "    test_preds = []\n",
    "    test_targets = []\n",
    "    \n",
    "    progress_bar = tqdm(total=len(train_loader.dataset), desc='Epoch {}'.format(n_epoch + 1))\n",
    "    \n",
    "    for x, y in train_loader:\n",
    "        \n",
    "        x = x.view(x.shape[0], -1)\n",
    "        y = y.unsqueeze(1).float()\n",
    "        \n",
    "        optimizer.zero_grad()\n",
    "        \n",
    "        pred = model(x)\n",
    "        \n",
    "        loss = criterion(pred, y.float())\n",
    "        \n",
    "        loss.backward()\n",
    "        \n",
    "        optimizer.step()\n",
    "        \n",
    "        train_losses.append(loss.item())\n",
    "        losses.append(loss.item())\n",
    "        \n",
    "        progress_bar.set_postfix(train_loss = np.mean(losses[-100:]))\n",
    "\n",
    "        progress_bar.update(x.shape[0])\n",
    "        \n",
    "    progress_bar.close()\n",
    "    \n",
    "    for x, y in test_loader:\n",
    "        \n",
    "        x = x.view(x.shape[0], -1)\n",
    "        y = y.unsqueeze(1).float()\n",
    "\n",
    "        with torch.no_grad():\n",
    "            \n",
    "            pred = model(x)\n",
    "            \n",
    "        test_preds.append(pred.numpy())\n",
    "        test_targets.append(y.numpy())\n",
    "\n",
    "        loss = criterion(pred, y)\n",
    "\n",
    "        test_losses.append(loss.item())\n",
    "        \n",
    "    mean_test_loss = np.mean(test_losses)\n",
    "        \n",
    "    print('Losses: train - {:.3f}, test = {:.3f}'.format(np.mean(train_losses), mean_test_loss))\n",
    "    \n",
    "    test_preds = np.concatenate(test_preds)\n",
    "    test_preds = test_preds.squeeze()\n",
    "    test_targets = np.concatenate(test_targets).squeeze()\n",
    "    \n",
    "    test_preds[test_preds > 0.5] = 1\n",
    "    test_preds[test_preds <= 0.5] = 0\n",
    "    \n",
    "    accurary = accuracy_score(test_targets, test_preds)\n",
    "\n",
    "    print('Test: accuracy - {:.3f}'.format(accurary))\n",
    "        \n",
    "    # как раз early stopping\n",
    "    # то есть: если наша функция потерь на валидационном датасете стала расти, то прекращаем обучение\n",
    "    # рост фунции потерь на валидационном датасете говорит о переобучении\n",
    "    # пожалуй, самый популярный метод валидации для нейронных сетей\n",
    "    if mean_test_loss < best_test_loss:\n",
    "        best_test_loss = mean_test_loss\n",
    "    else:\n",
    "        print('Early stopping')\n",
    "        break    "
   ]
  },
  {
   "cell_type": "code",
   "execution_count": 86,
   "metadata": {
    "id": "U4URcBJPN_Ow",
    "outputId": "c5b2dd03-5307-4d95-80e5-99a3b65a3f65"
   },
   "outputs": [
    {
     "data": {
      "image/png": "[encoded data removed]",
      "text/plain": [
       "<Figure size 1008x864 with 1 Axes>"
      ]
     },
     "metadata": {
      "needs_background": "light"
     },
     "output_type": "display_data"
    }
   ],
   "source": [
    "plt.figure(figsize=(14, 12))\n",
    "plt.plot(losses)\n",
    "plt.grid()\n",
    "plt.title('Training process')\n",
    "plt.xlabel('Iterations')\n",
    "plt.ylabel('Loss function');"
   ]
  },
  {
   "cell_type": "code",
   "execution_count": null,
   "metadata": {},
   "outputs": [],
   "source": []
  }
 ],
 "metadata": {
  "accelerator": "GPU",
  "colab": {
   "name": "Homework1Part1.ipynb",
   "provenance": []
  },
  "kernelspec": {
   "display_name": "Python 3 (ipykernel)",
   "language": "python",
   "name": "python3"
  },
  "language_info": {
   "codemirror_mode": {
    "name": "ipython",
    "version": 3
   },
   "file_extension": ".py",
   "mimetype": "text/x-python",
   "name": "python",
   "nbconvert_exporter": "python",
   "pygments_lexer": "ipython3",
   "version": "3.9.13"
  }
 },
 "nbformat": 4,
 "nbformat_minor": 1
}
